{
 "cells": [
  {
   "cell_type": "markdown",
   "metadata": {},
   "source": [
    "### 1. Scrape the details of most viewed videos on YouTube from Wikipedia:\n"
   ]
  },
  {
   "cell_type": "code",
   "execution_count": 1,
   "metadata": {},
   "outputs": [],
   "source": [
    "import selenium\n",
    "from selenium import webdriver"
   ]
  },
  {
   "cell_type": "code",
   "execution_count": 2,
   "metadata": {},
   "outputs": [],
   "source": [
    "driver=webdriver.Chrome(r\"C:\\Users\\eshan\\Downloads\\chromedriver_win32\\chromedriver.exe\")"
   ]
  },
  {
   "cell_type": "code",
   "execution_count": 3,
   "metadata": {},
   "outputs": [],
   "source": [
    "url=\"https://en.wikipedia.org/wiki/List_of_most-viewed_YouTube_videos/\"\n"
   ]
  },
  {
   "cell_type": "code",
   "execution_count": 4,
   "metadata": {},
   "outputs": [],
   "source": [
    "driver.get(url)"
   ]
  },
  {
   "cell_type": "code",
   "execution_count": 5,
   "metadata": {},
   "outputs": [],
   "source": [
    "try:\n",
    "    element=driver.find_element_by_xpath(\"//a[@class='external text']\")\n",
    "    element.click()\n",
    "    \n",
    "    \n",
    "except nosuchelementexception:\n",
    "       pass"
   ]
  },
  {
   "cell_type": "code",
   "execution_count": 11,
   "metadata": {},
   "outputs": [],
   "source": [
    "next_=driver.find_element_by_xpath(\"//div[@class='mw-search-result-heading']/a\")"
   ]
  },
  {
   "cell_type": "code",
   "execution_count": 12,
   "metadata": {},
   "outputs": [],
   "source": [
    "next_.click()"
   ]
  },
  {
   "cell_type": "code",
   "execution_count": 15,
   "metadata": {},
   "outputs": [],
   "source": [
    "non=driver.find_elements_by_xpath(\"//table[@class='wikitable sortable jquery-tablesorter'][1]//tbody//tr\")\n"
   ]
  },
  {
   "cell_type": "code",
   "execution_count": 27,
   "metadata": {},
   "outputs": [],
   "source": [
    "list_of_videos=[]\n",
    "for i in non:\n",
    "    res=i.text\n",
    "    none.append(res)"
   ]
  },
  {
   "cell_type": "code",
   "execution_count": 30,
   "metadata": {},
   "outputs": [
    {
     "data": {
      "text/plain": [
       "['1. \"Baby Shark Dance\"[28] Pinkfong Kids\\' Songs & Stories 7.39 June 17, 2016 [B]',\n",
       " '2. \"Despacito\"[30] Luis Fonsi featuring Daddy Yankee 7.09 January 12, 2017 [C]',\n",
       " '3. \"Shape of You\"[31] Ed Sheeran 5.10 January 30, 2017 [D]',\n",
       " '4. \"See You Again\"[32] Wiz Khalifa featuring Charlie Puth 4.85 April 6, 2015 [E]',\n",
       " '5. \"Masha and the Bear – Recipe for Disaster\"[35] Get Movies 4.38 January 31, 2012 [F]',\n",
       " '6. \"Johny Johny Yes Papa\"[36] LooLoo Kids 4.37 October 8, 2016 [G]',\n",
       " '7. \"Uptown Funk\"[37] Mark Ronson featuring Bruno Mars 4.03 November 19, 2014 [H]',\n",
       " '8. \"Gangnam Style\"[38] Psy 3.88 July 15, 2012 [I]',\n",
       " '9. \"Learning Colors – Colorful Eggs on a Farm\"[40] Miroshka TV 3.66 February 27, 2018',\n",
       " '10. \"Sorry\"[41] Justin Bieber 3.37 October 22, 2015',\n",
       " '11. \"Bath Song\"[42] Cocomelon – Nursery Rhymes 3.34 May 2, 2018',\n",
       " '12. \"Sugar\"[43] Maroon 5 3.34 January 14, 2015',\n",
       " '13. \"Phonics Song with Two Words\"[44] ChuChu TV 3.30 March 6, 2014',\n",
       " '14. \"Roar\"[45] Katy Perry 3.22 September 5, 2013',\n",
       " '15. \"Thinking Out Loud\"[46] Ed Sheeran 3.13 October 7, 2014',\n",
       " '16. \"Counting Stars\"[47] OneRepublic 3.13 May 31, 2013',\n",
       " '17. \"Shake It Off\"[48] Taylor Swift 2.99 August 18, 2014',\n",
       " '18. \"Dame Tu Cosita\"[49] El Chombo featuring Cutty Ranks 2.94 April 5, 2018',\n",
       " '19. \"Bailando\"[50] Enrique Iglesias featuring Descemer Bueno and Gente De Zona 2.94 April 11, 2014',\n",
       " '20. \"Lean On\"[51] Major Lazer and DJ Snake featuring MØ 2.93 March 22, 2015',\n",
       " '21. \"Faded\"[52] Alan Walker 2.92 December 3, 2015',\n",
       " '22. \"Dark Horse\"[53] Katy Perry featuring Juicy J 2.92 February 20, 2014',\n",
       " '23. \"Girls Like You\"[54] Maroon 5 featuring Cardi B 2.91 May 31, 2018',\n",
       " '24. \"Let Her Go\"[55] Passenger 2.85 July 25, 2012',\n",
       " '25. \"Mi Gente\"[56] J Balvin and Willy William 2.82 June 29, 2017',\n",
       " '26. \"Hello\"[57] Adele 2.75 October 22, 2015',\n",
       " '27. \"Blank Space\"[58] Taylor Swift 2.68 November 10, 2014',\n",
       " '28. \"Waka Waka (This Time for Africa)\"[59] Shakira featuring Freshlyground 2.66 June 4, 2010',\n",
       " '29. \"Perfect\"[60] Ed Sheeran 2.65 November 9, 2017',\n",
       " '30. \"Chantaje\"[61] Shakira featuring Maluma 2.60 November 18, 2016']"
      ]
     },
     "execution_count": 30,
     "metadata": {},
     "output_type": "execute_result"
    }
   ],
   "source": [
    "list_of_videos"
   ]
  },
  {
   "cell_type": "code",
   "execution_count": null,
   "metadata": {},
   "outputs": [],
   "source": [
    "driver.close()"
   ]
  },
  {
   "cell_type": "markdown",
   "metadata": {},
   "source": [
    "### 2.Scrape the details team India’s international fixtures from bcci.tv."
   ]
  },
  {
   "cell_type": "code",
   "execution_count": 49,
   "metadata": {},
   "outputs": [],
   "source": [
    "import selenium\n",
    "from selenium import webdriver\n",
    "from selenium.webdriver.support.ui import WebDriverWait\n",
    "from selenium.webdriver.common.by import By\n",
    "from selenium.webdriver.support import expected_conditions as EC\n",
    "from selenium.common.exceptions import TimeoutException\n",
    "from selenium.webdriver.common.action_chains import ActionChains\n",
    "import time"
   ]
  },
  {
   "cell_type": "code",
   "execution_count": 50,
   "metadata": {},
   "outputs": [],
   "source": [
    "driver=webdriver.Chrome(r\"C:\\Users\\eshan\\Downloads\\chromedriver_win32\\chromedriver.exe\")"
   ]
  },
  {
   "cell_type": "code",
   "execution_count": 51,
   "metadata": {},
   "outputs": [],
   "source": [
    "url=\" https://www.bcci.tv/\""
   ]
  },
  {
   "cell_type": "code",
   "execution_count": 52,
   "metadata": {},
   "outputs": [],
   "source": [
    "driver.maximize_window()\n",
    "driver.get(url)\n",
    "\n",
    "button=driver.find_element_by_xpath(\"//div//div[@class='drop-down__options']//ul//li//a[@class='navigation__link navigation__link--in-drop-down'][1]\")\n",
    "driver.implicitly_wait(10)\n",
    "ActionChains(driver).move_to_element(button).click(button).perform()\n"
   ]
  },
  {
   "cell_type": "code",
   "execution_count": 111,
   "metadata": {},
   "outputs": [],
   "source": [
    "# International Fixtures\n",
    "nxt=driver.find_element_by_xpath(\"//a[@class='navigation__link navigation__link--in-drop-down'][1]\")\n",
    "driver.implicitly_wait(10)\n",
    "ActionChains(driver).move_to_element(nxt).click(nxt).perform()\n"
   ]
  },
  {
   "cell_type": "code",
   "execution_count": 116,
   "metadata": {},
   "outputs": [],
   "source": [
    "#1st ODI\n",
    "nxt1=driver.find_element_by_xpath(\"//div[@class='js-list']//a[14]\")\n",
    "driver.implicitly_wait(20)\n",
    "ActionChains(driver).move_to_element(nxt1).click(nxt1).perform()"
   ]
  },
  {
   "cell_type": "code",
   "execution_count": 117,
   "metadata": {},
   "outputs": [
    {
     "data": {
      "text/plain": [
       "<selenium.webdriver.remote.webelement.WebElement (session=\"921217d53795f793431a5869b38b4173\", element=\"f5c19c1c-6f54-4be2-b13e-e19e0bc23879\")>"
      ]
     },
     "execution_count": 117,
     "metadata": {},
     "output_type": "execute_result"
    }
   ],
   "source": [
    "match=driver.find_element_by_xpath(\"//p[@class='mc-header-info__match-description']\")\n",
    "match"
   ]
  },
  {
   "cell_type": "code",
   "execution_count": 118,
   "metadata": {},
   "outputs": [],
   "source": [
    "title=match.get_attribute(\"innerText\").split(':')"
   ]
  },
  {
   "cell_type": "code",
   "execution_count": 119,
   "metadata": {},
   "outputs": [
    {
     "data": {
      "text/plain": [
       "['1ST ODI - INDIA V ENGLAND 2021 VIEW SERIES']"
      ]
     },
     "execution_count": 119,
     "metadata": {},
     "output_type": "execute_result"
    }
   ],
   "source": [
    "title"
   ]
  },
  {
   "cell_type": "code",
   "execution_count": 120,
   "metadata": {},
   "outputs": [
    {
     "data": {
      "text/plain": [
       "<selenium.webdriver.remote.webelement.WebElement (session=\"921217d53795f793431a5869b38b4173\", element=\"db6716da-f09b-48f7-a3a5-c72c624cd808\")>"
      ]
     },
     "execution_count": 120,
     "metadata": {},
     "output_type": "execute_result"
    }
   ],
   "source": [
    "place=driver.find_element_by_xpath(\"//h1[@class='mc-header-info__title']\")\n",
    "place"
   ]
  },
  {
   "cell_type": "code",
   "execution_count": 121,
   "metadata": {},
   "outputs": [],
   "source": [
    "#Place=place.text.innerText.Trim()\n",
    "Place= place.get_attribute(\"innerText\").replace('\\n',' ')\n",
    "Place=place.text.split(':')[0].strip()\n"
   ]
  },
  {
   "cell_type": "code",
   "execution_count": 122,
   "metadata": {},
   "outputs": [
    {
     "data": {
      "text/plain": [
       "'India v England Maharashtra Cricket Association Stadium, Pune'"
      ]
     },
     "execution_count": 122,
     "metadata": {},
     "output_type": "execute_result"
    }
   ],
   "source": [
    "Place"
   ]
  },
  {
   "cell_type": "code",
   "execution_count": 123,
   "metadata": {},
   "outputs": [
    {
     "data": {
      "text/plain": [
       "'Tuesday 23 March, 14:30 IST'"
      ]
     },
     "execution_count": 123,
     "metadata": {},
     "output_type": "execute_result"
    }
   ],
   "source": [
    "date_time=driver.find_element_by_xpath(\"//div[@class='mc-header-scorebox__datetime']\")\n",
    "Date_time=date_time.get_attribute(\"innerText\").strip()\n",
    "Date_time\n"
   ]
  },
  {
   "cell_type": "code",
   "execution_count": 124,
   "metadata": {},
   "outputs": [],
   "source": [
    "series=driver.find_element_by_xpath(\"//a[@class='mc-header-info__match-description-link mc-theme-color']\").click()\n"
   ]
  },
  {
   "cell_type": "code",
   "execution_count": 125,
   "metadata": {},
   "outputs": [],
   "source": [
    "series_list1=driver.find_elements_by_xpath(\"//div[@class='tournament-info__type match-type t-t20i']\")\n",
    "series_list2=driver.find_elements_by_xpath(\"//div[@class='tournament-info__type match-type t-odi']\")\n",
    "series_list3=driver.find_elements_by_xpath(\"//div[@class='tournament-info__type match-type t-test']\")"
   ]
  },
  {
   "cell_type": "code",
   "execution_count": 126,
   "metadata": {},
   "outputs": [],
   "source": [
    "Series_list=[]\n",
    "for i in series_list1:\n",
    "    ser=i.text\n",
    "    Series_list.append(ser)\n",
    "    \n",
    "for i in series_list2:\n",
    "    ser2=i.text\n",
    "    Series_list.append(ser2)\n",
    "    \n",
    "for i in series_list3:\n",
    "    ser3=i.text\n",
    "    Series_list.append(ser3)\n",
    "    "
   ]
  },
  {
   "cell_type": "code",
   "execution_count": 127,
   "metadata": {},
   "outputs": [
    {
     "data": {
      "text/plain": [
       "['5 T20I', '3 ODI', '4 Test']"
      ]
     },
     "execution_count": 127,
     "metadata": {},
     "output_type": "execute_result"
    }
   ],
   "source": [
    "Series_list"
   ]
  },
  {
   "cell_type": "code",
   "execution_count": 128,
   "metadata": {},
   "outputs": [
    {
     "name": "stdout",
     "output_type": "stream",
     "text": [
      "['1ST ODI - INDIA V ENGLAND 2021 VIEW SERIES']\n",
      "\n",
      "\n",
      "India v England Maharashtra Cricket Association Stadium, Pune\n",
      "\n",
      "\n",
      "Tuesday 23 March, 14:30 IST\n",
      "\n",
      "\n",
      "['5 T20I', '3 ODI', '4 Test']\n"
     ]
    }
   ],
   "source": [
    "print(title)\n",
    "print('\\n')\n",
    "print(Place)\n",
    "print('\\n')\n",
    "print(Date_time)\n",
    "print('\\n')\n",
    "print(Series_list)"
   ]
  },
  {
   "cell_type": "code",
   "execution_count": null,
   "metadata": {},
   "outputs": [],
   "source": [
    "driver.close()"
   ]
  },
  {
   "cell_type": "markdown",
   "metadata": {},
   "source": [
    "### 4. Scrape the details of State-wise GDP of India from statisticstime.com."
   ]
  },
  {
   "cell_type": "code",
   "execution_count": 1,
   "metadata": {},
   "outputs": [],
   "source": [
    "import selenium\n",
    "from selenium import webdriver\n",
    "from selenium.webdriver.support.ui import WebDriverWait\n",
    "from selenium.webdriver.common.by import By\n",
    "from selenium.webdriver.support import expected_conditions as EC\n",
    "from selenium.common.exceptions import NoSuchElementException\n",
    "from selenium.webdriver.common.action_chains import ActionChains\n",
    "import time"
   ]
  },
  {
   "cell_type": "code",
   "execution_count": 2,
   "metadata": {},
   "outputs": [],
   "source": [
    "driver=webdriver.Chrome(r\"C:\\Users\\eshan\\Downloads\\chromedriver_win32\\chromedriver.exe\")"
   ]
  },
  {
   "cell_type": "code",
   "execution_count": 3,
   "metadata": {},
   "outputs": [],
   "source": [
    "url=\"http://statisticstimes.com/\"\n"
   ]
  },
  {
   "cell_type": "code",
   "execution_count": 4,
   "metadata": {},
   "outputs": [],
   "source": [
    "driver.maximize_window()\n",
    "driver.get(url)\n",
    "\n",
    "buttn=driver.find_element_by_xpath(\"//div[@class='dropdown'][2]\")\n",
    "driver.implicitly_wait(20)\n",
    "ActionChains(driver).move_to_element(buttn).click(buttn).perform()\n",
    "\n",
    "button=driver.find_element_by_xpath(\"//div[@class='dropdown'][2]//a[2]\")\n",
    "driver.implicitly_wait(20)\n",
    "ActionChains(driver).move_to_element(button).click(button).perform()\n"
   ]
  },
  {
   "cell_type": "code",
   "execution_count": 5,
   "metadata": {},
   "outputs": [],
   "source": [
    "try:\n",
    "    states=driver.find_element_by_link_text(\"» GDP of Indian States\")\n",
    "    driver.implicitly_wait(20)\n",
    "    ActionChains(driver).move_to_element(states).click(states).perform()\n",
    "    \n",
    "except nosuchelementexception:\n",
    "       pass\n"
   ]
  },
  {
   "cell_type": "code",
   "execution_count": 6,
   "metadata": {},
   "outputs": [],
   "source": [
    "Rank=[]\n",
    "State=[]\n",
    "GSDP_18_to_19=[]\n",
    "GSDP_17_to_18=[]\n",
    "Share_2017=[]\n",
    "GDP_billion=[]"
   ]
  },
  {
   "cell_type": "code",
   "execution_count": 9,
   "metadata": {},
   "outputs": [],
   "source": [
    "try:\n",
    "    rank=driver.find_elements_by_xpath(\"//table[@id='table_id']//td[@class='data1']\")\n",
    "    for i in rank:\n",
    "        ran=i.text\n",
    "        Rank.append(ran)\n",
    "except NoSuchElementException:\n",
    "    Rank.append('-')\n",
    "    \n",
    "try:\n",
    "    state=driver.find_elements_by_xpath(\"//table[@id='table_id']//td[@class='name']\")\n",
    "    for i in state:\n",
    "        stat=i.text\n",
    "        State.append(stat)\n",
    "except NoSuchElementException:\n",
    "    State.append('-')\n",
    "     \n",
    "try:\n",
    "    gsdp1819=driver.find_elements_by_xpath(\"//table[@id='table_id']//td[@class='data']\")\n",
    "    for i in gsdp1819:\n",
    "        gsdp=i.text\n",
    "        GSDP_18_to_19.append(gsdp)\n",
    "except NoSuchElementException:\n",
    "    GSDP_18_to_19.append('-')\n",
    "\n",
    "try:\n",
    "    gsdp1718=driver.find_elements_by_xpath(\"//table[@id='table_id']//td[@class='data sorting_1']\")\n",
    "    for i in gsdp1718:\n",
    "        gsd=i.text\n",
    "        GSDP_17_to_18.append(gsd)\n",
    "except NoSuchElementException:\n",
    "         GSDP_17_to_18.append('-')\n",
    "    \n",
    "try:\n",
    "    share=driver.find_elements_by_xpath(\"//table[@id='table_id']//td[@class='data'][2]\")\n",
    "    for i in share:\n",
    "        sha=i.text\n",
    "        Share_2017.append(sha)\n",
    "except NoSuchElementException:\n",
    "    Share_2017.append('-')\n",
    "    \n",
    "try:\n",
    "    billion=driver.find_elements_by_xpath(\"//table[@id='table_id']//td[@class='data'][3]\")\n",
    "    for i in billion:\n",
    "        bill=i.text\n",
    "        GDP_billion.append(bill)\n",
    "except NoSuchElementException:\n",
    "    GDP_billion.append('-')\n",
    "    \n"
   ]
  },
  {
   "cell_type": "code",
   "execution_count": 10,
   "metadata": {},
   "outputs": [
    {
     "name": "stdout",
     "output_type": "stream",
     "text": [
      "['1', '2', '3', '4', '5', '6', '7', '8', '9', '10', '11', '12', '13', '14', '15', '16', '17', '18', '19', '20', '21', '22', '23', '24', '25', '26', '27', '28', '29', '30', '31', '32', '33']\n",
      "\n",
      "\n",
      "['Maharashtra', 'Tamil Nadu', 'Uttar Pradesh', 'Karnataka', 'Gujarat', 'West Bengal', 'Rajasthan', 'Andhra Pradesh', 'Telangana', 'Madhya Pradesh', 'Kerala', 'Delhi', 'Haryana', 'Bihar', 'Punjab', 'Odisha', 'Assam', 'Chhattisgarh', 'Jharkhand', 'Uttarakhand', 'Himachal Pradesh', 'Jammu & Kashmir', 'Goa', 'Tripura', 'Chandigarh', 'Puducherry', 'Meghalaya', 'Nagaland', 'Manipur', 'Sikkim', 'Arunachal Pradesh', 'Mizoram', 'Andaman & Nicobar Islands', 'India']\n",
      "\n",
      "\n",
      "['-', '14.11%', '374.196', '-', '1,942,769', '1,664,159', '8.55%', '226.827', '1,207,526', '1,116,334', '1,542,432', '8.05%', '213.558', '1,109,408', '1,042,113', '1,535,224', '7.90%', '209.513', '1,136,634', '1,037,729', '-', '7.69%', '203.993', '-', '1,090,260', '1,177,586', '5.85%', '155.101', '800,913', '711,408', '929,124', '4.89%', '129.650', '679,314', '632,921', '933,402', '4.74%', '125.614', '680,332', '612,794', '865,688', '4.41%', '116.965', '618,544', '559,750', '809,327', '4.26%', '112.998', '535,362', '500,151', '-', '4.10%', '108.698', '-', '518,269', '779,652', '4.04%', '107.079', '602,708', '554,908', '707,126', '3.66%', '97.142', '526,055', '486,239', '557,490', '2.84%', '75.215', '394,350', '356,768', '521,861', '2.80%', '74.346', '397,711', '375,535', '485,376', '2.55%', '67.710', '390,574', '360,772', '-', '1.69%', '44.764', '-', '219,580', '311,660', '1.66%', '44.097', '231,820', '218,539', '307,581', '1.62%', '42.863', '232,821', '217,618', '245,895', '1.30%', '34.576', '193,273', '180,844', '153,181', '0.82%', '21.818', '117,868', '109,805', '-', '0.81%', '21.489', '-', '107,580', '77,172', '0.41%', '10.938', '57,028', '56,762', '-', '0.27%', '7.158', '-', '32,253', '-', '0.23%', '6.021', '-', '30,529', '36,656', '0.19%', '5.115', '24,442', '22,489', '-', '0.18%', '4.778', '-', '23,742', '-', '0.14%', '3.768', '-', '16,184', '-', '0.14%', '3.719', '-', '17,893', '26,786', '0.14%', '3.646', '17,629', '16,467', '-', '0.13%', '3.421', '-', '15,705', '-', '0.11%', '3.019', '-', '14,787', '-', '0.05%', '1.221', '-', '6,482', '', '1,90,10,164', '1,70,95,005', '', '2,652.55', '1,40,77,586', '1,31,79,857']\n",
      "\n",
      "\n",
      "['2,411,600', '1,461,841', '1,376,324', '1,350,257', '1,314,680', '999,585', '835,558', '809,547', '753,811', '728,242', '700,532', '690,098', '626,054', '484,740', '479,141', '436,374', '288,494', '284,194', '276,243', '222,836', '140,613', '138,488', '70,493', '46,133', '38,806', '32,962', '30,790', '24,281', '23,968', '23,495', '22,045', '19,457', '7,871']\n",
      "\n",
      "\n",
      "['14.11%', '8.55%', '8.05%', '7.90%', '7.69%', '5.85%', '4.89%', '4.74%', '4.41%', '4.26%', '4.10%', '4.04%', '3.66%', '2.84%', '2.80%', '2.55%', '1.69%', '1.66%', '1.62%', '1.30%', '0.82%', '0.81%', '0.41%', '0.27%', '0.23%', '0.19%', '0.18%', '0.14%', '0.14%', '0.14%', '0.13%', '0.11%', '0.05%', '1,90,10,164']\n",
      "\n",
      "\n",
      "['374.196', '226.827', '213.558', '209.513', '203.993', '155.101', '129.650', '125.614', '116.965', '112.998', '108.698', '107.079', '97.142', '75.215', '74.346', '67.710', '44.764', '44.097', '42.863', '34.576', '21.818', '21.489', '10.938', '7.158', '6.021', '5.115', '4.778', '3.768', '3.719', '3.646', '3.421', '3.019', '1.221', '1,70,95,005']\n"
     ]
    }
   ],
   "source": [
    "print(Rank)\n",
    "print('\\n')\n",
    "print(State)\n",
    "print('\\n')\n",
    "print(GSDP_18_to_19)\n",
    "print('\\n')\n",
    "print(GSDP_17_to_18)\n",
    "print('\\n')\n",
    "print(Share_2017)\n",
    "print('\\n')\n",
    "print(GDP_billion)\n"
   ]
  },
  {
   "cell_type": "code",
   "execution_count": 11,
   "metadata": {},
   "outputs": [],
   "source": [
    "driver.close()"
   ]
  },
  {
   "cell_type": "markdown",
   "metadata": {},
   "source": [
    "### 5.Scrape the details of trending repositories on Github.com."
   ]
  },
  {
   "cell_type": "code",
   "execution_count": 167,
   "metadata": {},
   "outputs": [],
   "source": [
    "import selenium\n",
    "from selenium import webdriver\n",
    "from selenium.webdriver.support.ui import WebDriverWait\n",
    "from selenium.webdriver.common.by import By\n",
    "from selenium.webdriver.support import expected_conditions as EC\n",
    "from selenium.common.exceptions import NoSuchElementException\n",
    "from selenium.webdriver.common.action_chains import ActionChains\n",
    "import time"
   ]
  },
  {
   "cell_type": "code",
   "execution_count": 168,
   "metadata": {},
   "outputs": [],
   "source": [
    "driver=webdriver.Chrome(r\"C:\\Users\\eshan\\Downloads\\chromedriver_win32\\chromedriver.exe\")"
   ]
  },
  {
   "cell_type": "code",
   "execution_count": 170,
   "metadata": {},
   "outputs": [],
   "source": [
    "url=\" https://github.com/\"\n",
    "driver.get(url)\n",
    "driver.maximize_window()\n",
    "\n",
    "exp=driver.find_element_by_xpath(\"//div[@class='container-xl d-lg-flex flex-items-center p-responsive']//li[@class='d-block d-lg-flex flex-lg-nowrap flex-lg-items-center border-bottom border-lg-bottom-0 mr-0 mr-lg-3 edge-item-fix position-relative flex-wrap flex-justify-between d-flex flex-items-center '][2]\")\n",
    "driver.implicitly_wait(10)\n",
    "ActionChains(driver).move_to_element(exp).click(exp).perform()\n",
    "\n",
    "trend=driver.find_element_by_xpath(\"//div[@class='dropdown-menu flex-auto rounded-1 bg-white px-0 pt-2 pb-0 mt-0 pb-4 p-lg-4 position-relative position-lg-absolute left-0 left-lg-n4']//ul[2]//li[3]//a\")\n",
    "driver.implicitly_wait(10)\n",
    "ActionChains(driver).move_to_element(trend).click(trend).perform()\n",
    "\n"
   ]
  },
  {
   "cell_type": "code",
   "execution_count": 173,
   "metadata": {},
   "outputs": [],
   "source": [
    "Repository=[]\n",
    "Repo_desc=[]\n",
    "contributors=[]\n",
    "language=[]"
   ]
  },
  {
   "cell_type": "code",
   "execution_count": 182,
   "metadata": {},
   "outputs": [
    {
     "name": "stdout",
     "output_type": "stream",
     "text": [
      "['getmeli /', 'Netflix /', 'rocky-linux /', 'labuladong /', 'Pierian-Data /', 'aapatre /', 'rocky-linux /', 'coolsnowwolf /', 'rougier /', 'RobinLinus /', 'Olshansk /', 'rocky-linux /', 'iperov /', 'projectdiscovery /', 'EbookFoundation /', 'n7olkachev /', 'knownsec /', 'stenzek /', 'commaai /', 'sphawes /', 'willmcgugan /', 'danistefanovic /', 'vinta /', 'brndnmtthws /', 'YosysHQ /', 'getmeli /', 'Netflix /', 'rocky-linux /', 'labuladong /', 'Pierian-Data /', 'aapatre /', 'rocky-linux /', 'coolsnowwolf /', 'rougier /', 'RobinLinus /', 'Olshansk /', 'rocky-linux /', 'iperov /', 'projectdiscovery /', 'EbookFoundation /', 'n7olkachev /', 'knownsec /', 'stenzek /', 'commaai /', 'sphawes /', 'willmcgugan /', 'danistefanovic /', 'vinta /', 'brndnmtthws /', 'YosysHQ /', 'getmeli /', 'Netflix /', 'rocky-linux /', 'labuladong /', 'Pierian-Data /', 'aapatre /', 'rocky-linux /', 'coolsnowwolf /', 'rougier /', 'RobinLinus /', 'Olshansk /', 'rocky-linux /', 'iperov /', 'projectdiscovery /', 'EbookFoundation /', 'n7olkachev /', 'knownsec /', 'stenzek /', 'commaai /', 'sphawes /', 'willmcgugan /', 'danistefanovic /', 'vinta /', 'brndnmtthws /', 'YosysHQ /']\n",
      "\n",
      "\n",
      "['ConsoleMe consolidates the management of multiple AWS accounts into a single interface. It allows your end-users and administrators to get credentials for your different accounts, and allows your users/administrators to manage or request cloud permissions.', 'The official website of the Rocky Linux Project.', '刷算法全靠套路，认准 labuladong 就够了！English version supported! Crack LeetCode, not only how, but also why.', 'Course Files for Complete Python 3 Bootcamp Course on Udemy', \"Do you want to LEARN NEW STUFF for FREE? Don't worry, with the power of web-scraping and automation, this script will find the necessary Udemy coupons & enroll you for PAID UDEMY COURSES, ABSOLUTELY FREE!\", \"Lean's OpenWrt source\", 'GNU Emacs / N Λ N O - Emacs made simple', 'A Progressive Web App for local file sharing', 'Everything you need to prepare for your technical interview', 'Rocky Linux is a community enterprise Operating System designed to be 100% bug-for-bug compatible with Enterprise Linux created in response to the effective discontinuation of CentOS.', 'DeepFaceLab is the leading software for creating deepfakes.', 'Swiss Army knife Proxy tool for HTTP/HTTPS traffic capture, manipulation, and replay on the go.', '📚 Freely available programming books', 'Faster than the fastest in the world pixel-by-pixel image difference tool.', 'shellcodeloader', 'Fast PlayStation 1 emulator for PC and Android', 'openpilot is an open source driver assistance system. openpilot performs the functions of Automated Lane Centering and Adaptive Cruise Control for over 85 supported car makes and models.', 'The Index is an open source pick and place machine.', 'Rich is a Python library for rich text and beautiful formatting in the terminal.', '🤓 Build your own (insert technology here)', 'A curated list of awesome Python frameworks, libraries, software and resources', 'ThetaGang is an IBKR bot for collecting money', 'Yosys Open SYnthesis Suite', 'ConsoleMe consolidates the management of multiple AWS accounts into a single interface. It allows your end-users and administrators to get credentials for your different accounts, and allows your users/administrators to manage or request cloud permissions.', 'The official website of the Rocky Linux Project.', '刷算法全靠套路，认准 labuladong 就够了！English version supported! Crack LeetCode, not only how, but also why.', 'Course Files for Complete Python 3 Bootcamp Course on Udemy', \"Do you want to LEARN NEW STUFF for FREE? Don't worry, with the power of web-scraping and automation, this script will find the necessary Udemy coupons & enroll you for PAID UDEMY COURSES, ABSOLUTELY FREE!\", \"Lean's OpenWrt source\", 'GNU Emacs / N Λ N O - Emacs made simple', 'A Progressive Web App for local file sharing', 'Everything you need to prepare for your technical interview', 'Rocky Linux is a community enterprise Operating System designed to be 100% bug-for-bug compatible with Enterprise Linux created in response to the effective discontinuation of CentOS.', 'DeepFaceLab is the leading software for creating deepfakes.', 'Swiss Army knife Proxy tool for HTTP/HTTPS traffic capture, manipulation, and replay on the go.', '📚 Freely available programming books', 'Faster than the fastest in the world pixel-by-pixel image difference tool.', 'shellcodeloader', 'Fast PlayStation 1 emulator for PC and Android', 'openpilot is an open source driver assistance system. openpilot performs the functions of Automated Lane Centering and Adaptive Cruise Control for over 85 supported car makes and models.', 'The Index is an open source pick and place machine.', 'Rich is a Python library for rich text and beautiful formatting in the terminal.', '🤓 Build your own (insert technology here)', 'A curated list of awesome Python frameworks, libraries, software and resources', 'ThetaGang is an IBKR bot for collecting money', 'Yosys Open SYnthesis Suite']\n",
      "\n",
      "\n",
      "['20', '40', '47', '14,405', '48,629', '149', '28', '12,259', '27', '481', '2,805', '209', '5,099', '20', '39,586', '18', '136', '63', '4,454', '103', '477', '7,902', '17,870', '90', '456', '20', '40', '47', '14,405', '48,629', '149', '28', '12,259', '27', '481', '2,805', '209', '5,099', '20', '39,586', '18', '136', '63', '4,454', '103', '477', '7,902', '17,870', '90', '456']\n",
      "\n",
      "\n",
      "['TypeScript', 'Python', 'HTML', 'Jupyter Notebook', 'Python', 'HTML', 'C', 'Emacs Lisp', 'JavaScript', 'Python', 'Go', 'Go', 'C++', 'C++', 'C++', 'C++', 'Python', 'Python', 'Python', 'C++', 'TypeScript', 'Python', 'HTML', 'Jupyter Notebook', 'Python', 'HTML', 'C', 'Emacs Lisp', 'JavaScript', 'Python', 'Go', 'Go', 'C++', 'C++', 'C++', 'C++', 'Python', 'Python', 'Python', 'C++']\n"
     ]
    }
   ],
   "source": [
    "try:\n",
    "    repository=driver.find_elements_by_xpath(\"//h1[@class='h3 lh-condensed']//span[@class='text-normal']\")\n",
    "    for i in repository:\n",
    "        rep=i.text\n",
    "        Repository.append(rep)\n",
    "except NoSuchElementException:\n",
    "       Repository.append('-')\n",
    "    \n",
    "try:\n",
    "    description=driver.find_elements_by_xpath(\"//p[@class='col-9 text-gray my-1 pr-4']\")\n",
    "    for i in description:\n",
    "        des=i.text\n",
    "        Repo_desc.append(des)\n",
    "except NoSuchElementException:\n",
    "       Repo_desc.append('-')\n",
    "        \n",
    "try:\n",
    "    contri=driver.find_elements_by_xpath(\"//a[@class='muted-link d-inline-block mr-3'][2]\")\n",
    "    for i in contri:\n",
    "        con=i.text\n",
    "        contributors.append(con)\n",
    "except NoSuchElementException:\n",
    "        contributors.append('-')\n",
    "        \n",
    "try:\n",
    "    lang=driver.find_elements_by_xpath(\"//span[@class='d-inline-block ml-0 mr-3']\")\n",
    "    for i in lang:\n",
    "        lan=i.text\n",
    "        language.append(lan)\n",
    "except NoSuchElementException:\n",
    "       language.append('-')\n",
    "\n",
    "print(Repository)\n",
    "print('\\n')\n",
    "print(Repo_desc)\n",
    "print('\\n')\n",
    "print(contributors)\n",
    "print('\\n')\n",
    "print(language)\n",
    "        \n",
    "        "
   ]
  },
  {
   "cell_type": "code",
   "execution_count": 183,
   "metadata": {},
   "outputs": [],
   "source": [
    "driver.close()"
   ]
  },
  {
   "cell_type": "markdown",
   "metadata": {},
   "source": [
    "### 6.Scrape the details of top 100 songs on billiboard.com.\n"
   ]
  },
  {
   "cell_type": "code",
   "execution_count": 23,
   "metadata": {},
   "outputs": [],
   "source": [
    "import selenium\n",
    "from selenium import webdriver\n",
    "from selenium.webdriver.support.ui import WebDriverWait\n",
    "from selenium.webdriver.common.by import By\n",
    "from selenium.webdriver.support import expected_conditions as EC\n",
    "from selenium.common.exceptions import NoSuchElementException\n",
    "from selenium.webdriver.common.action_chains import ActionChains\n",
    "import time"
   ]
  },
  {
   "cell_type": "code",
   "execution_count": 32,
   "metadata": {},
   "outputs": [],
   "source": [
    "driver=webdriver.Chrome(r\"C:\\Users\\eshan\\Downloads\\chromedriver_win32\\chromedriver.exe\")"
   ]
  },
  {
   "cell_type": "code",
   "execution_count": 38,
   "metadata": {},
   "outputs": [],
   "source": [
    "url=\"https://www.billboard.com/\"\n",
    "driver.get(url)\n",
    "driver.maximize_window()\n",
    "\n",
    "chart=driver.find_element_by_xpath(\"//div[@class='header__sticky__child']//div[1]//ul//li[@class='header__main-link__wrapper']//a[1]\")\n",
    "driver.implicitly_wait(10)\n",
    "ActionChains(driver).move_to_element(chart).click(chart).perform()\n",
    "\n",
    "#hot100=driver.find_element_by_xpath(\"//ul[@class='site-header__subnav-items site-header__subnav-items__child']//li//ul//li//a[1]\")\n",
    "try:\n",
    "    hot100=driver.find_element_by_xpath(\"//ul[@class='header__submenu__list']//a[1]\")\n",
    "    driver.implicitly_wait(10)\n",
    "    ActionChains(driver).move_to_element(hot100).click(hot100).perform()\n",
    "except NoSuchElementException:\n",
    "    pass"
   ]
  },
  {
   "cell_type": "code",
   "execution_count": 40,
   "metadata": {},
   "outputs": [],
   "source": [
    "songs=driver.find_element_by_xpath(\"//div[@class='charts-landing__info--view-chart'][1]\")\n",
    "driver.implicitly_wait(10)\n",
    "ActionChains(driver).move_to_element(songs).click(songs).perform()\n",
    " "
   ]
  },
  {
   "cell_type": "code",
   "execution_count": 41,
   "metadata": {},
   "outputs": [],
   "source": [
    "song=[]\n",
    "artist=[]\n",
    "last_week_rank=[]\n",
    "peak_rank=[]\n",
    "weeks_onboard=[]"
   ]
  },
  {
   "cell_type": "code",
   "execution_count": 42,
   "metadata": {},
   "outputs": [],
   "source": [
    "top_100=driver.find_elements_by_xpath(\"//span[@class='chart-element__information__song text--truncate color--primary']\")\n",
    "for i in top_100:\n",
    "    top=i.text\n",
    "    song.append(top)\n",
    "    \n",
    "name=driver.find_elements_by_xpath(\"//span[@class='chart-element__information__artist text--truncate color--secondary']\")\n",
    "for i in name:\n",
    "    art=i.text\n",
    "    artist.append(art)\n",
    "    \n",
    "lsrank=driver.find_elements_by_xpath(\"//div[@class='chart-element__meta text--center color--secondary text--last']\")\n",
    "for i in lsrank:\n",
    "    lran=i.text\n",
    "    last_week_rank.append(lran)\n",
    "    \n",
    "prank=driver.find_elements_by_xpath(\"//div[@class='chart-element__meta text--center color--secondary text--peak']\")\n",
    "for i in prank:\n",
    "    pran=i.text\n",
    "    peak_rank.append(pran)\n",
    "    \n",
    "weeks=driver.find_elements_by_xpath(\"//div[@class='chart-element__meta text--center color--secondary text--week']\")\n",
    "for i in weeks:\n",
    "    week=i.text\n",
    "    weeks_onboard.append(week)\n",
    "\n",
    "    \n",
    "\n"
   ]
  },
  {
   "cell_type": "code",
   "execution_count": 43,
   "metadata": {},
   "outputs": [
    {
     "name": "stdout",
     "output_type": "stream",
     "text": [
      "['Mood', 'All I Want For Christmas Is You', 'Positions', \"Rockin' Around The Christmas Tree\", 'Dakiti', 'Laugh Now Cry Later', 'Holy', 'I Hope', 'Jingle Bell Rock', 'Dynamite', 'Blinding Lights', \"It's The Most Wonderful Time Of The Year\", 'Lemonade', 'Body', 'Go Crazy', 'Feliz Navidad', 'For The Night', 'The Christmas Song (Merry Christmas To You)', 'Kings & Queens', 'Therefore I Am', 'Last Christmas', 'Let It Snow, Let It Snow, Let It Snow', 'Sleigh Ride', 'A Holly Jolly Christmas', '34+35', 'Levitating', 'Bang!', 'Life Goes On', 'Savage Love (Laxed - Siren Beat)', 'Underneath The Tree', 'Be Like That', 'More Than My Hometown', 'WAP', 'Happy Holiday / The Holiday Season', 'Rockstar', 'Here Comes Santa Claus (Right Down Santa Claus Lane)', 'White Christmas', 'Monster', \"It's Beginning To Look A Lot Like Christmas\", 'Rudolph The Red-Nosed Reindeer', 'Christmas (Baby Please Come Home)', 'Before You Go', 'ily', 'Said Sum', \"It's Beginning To Look A Lot Like Christmas\", 'Lonely', \"(There's No Place Like) Home For The Holidays\", 'Whats Poppin', 'Happy Anywhere', 'Watermelon Sugar', 'Holiday', 'What You Know Bout Love', 'La Noche de Anoche', 'Hawai', 'Better Together', 'Big, Big Plans', 'Midnight Sky', 'Diamonds', 'Prisoner', 'Te Mudaste', 'Love You Like I Used To', 'Starting Over', \"Ain't Always The Cowboy\", 'Yo Visto Asi', 'Dicked Down In Dallas', 'I Should Probably Go To Bed', 'You Broke Me First.', 'Forever After All', 'Whoopty', 'Mr. Right Now', 'B.S.', 'Haciendo Que Me Amas', \"My Ex's Best Friend\", 'Te Deseo Lo Mejor', 'Under The Mistletoe', '7 Summers', 'Wonder', 'Booker T', 'El Mundo Es Mio', 'pov', 'Hoy Cobre', 'Champagne Night', \"Rockin' Around The Christmas Tree\", \"Somebody's Problem\", 'Throat Baby (Go Baby)', 'Still Goin Down', 'Maldita Pobreza', 'Took Her To The O', \"Don't Stop\", 'Hit Different', 'Tyler Herro', 'Golden', 'Good Time', 'La Droga', 'Favorite Time Of Year', 'Back To The Streets', 'Martin & Gina', 'Hole In The Bottle', 'So Done', 'Bichota']\n",
      "\n",
      "\n",
      "['24kGoldn Featuring iann dior', 'Mariah Carey', 'Ariana Grande', 'Brenda Lee', 'Bad Bunny & Jhay Cortez', 'Drake Featuring Lil Durk', 'Justin Bieber Featuring Chance The Rapper', 'Gabby Barrett Featuring Charlie Puth', 'Bobby Helms', 'BTS', 'The Weeknd', 'Andy Williams', 'Internet Money & Gunna Featuring Don Toliver & NAV', 'Megan Thee Stallion', 'Chris Brown & Young Thug', 'Jose Feliciano', 'Pop Smoke Featuring Lil Baby & DaBaby', 'Nat King Cole', 'Ava Max', 'Billie Eilish', 'Wham!', 'Dean Martin', 'The Ronettes', 'Burl Ives', 'Ariana Grande', 'Dua Lipa Featuring DaBaby', 'AJR', 'BTS', 'Jawsh 685 x Jason Derulo', 'Kelly Clarkson', 'Kane Brown With Swae Lee & Khalid', 'Morgan Wallen', 'Cardi B Featuring Megan Thee Stallion', 'Andy Williams', 'DaBaby Featuring Roddy Ricch', 'Gene Autry', 'Bing Crosby', 'Shawn Mendes & Justin Bieber', 'Michael Buble', 'Gene Autry', 'Darlene Love', 'Lewis Capaldi', 'surf mesa Featuring Emilee', 'Moneybagg Yo', 'Perry Como And The Fontane Sisters With Mitchell Ayres And His Orchestra', 'Justin Bieber & benny blanco', 'Perry Como', 'Jack Harlow Featuring DaBaby, Tory Lanez & Lil Wayne', 'Blake Shelton Featuring Gwen Stefani', 'Harry Styles', 'Lil Nas X', 'Pop Smoke', 'Bad Bunny & ROSALIA', 'Maluma & The Weeknd', 'Luke Combs', 'Chris Lane', 'Miley Cyrus', 'Sam Smith', 'Miley Cyrus Featuring Dua Lipa', 'Bad Bunny', 'Russell Dickerson', 'Chris Stapleton', 'Jon Pardi', 'Bad Bunny', 'Trey Lewis', 'Dan + Shay', 'Tate McRae', 'Luke Combs', 'CJ', '21 Savage & Metro Boomin Featuring Drake', 'Jhene Aiko Featuring H.E.R.', 'Bad Bunny', 'Machine Gun Kelly X blackbear', 'Bad Bunny', 'Kelly Clarkson & Brett Eldredge', 'Morgan Wallen', 'Shawn Mendes', 'Bad Bunny', 'Bad Bunny', 'Ariana Grande', 'Bad Bunny', 'Lady A', 'Justin Bieber', 'Morgan Wallen', 'BRS Kash', 'Morgan Wallen', 'Bad Bunny', 'King Von', 'Megan Thee Stallion Featuring Young Thug', 'SZA Featuring Ty Dolla $ign', 'Jack Harlow', 'Harry Styles', 'Niko Moon', 'Bad Bunny', 'Carrie Underwood', 'Saweetie Featuring Jhene Aiko', 'Polo G', 'Kelsea Ballerini', 'The Kid LAROI', 'Karol G']\n",
      "\n",
      "\n",
      "['2', '14', '4', '21', '15', '7', '6', '5', '31', '3', '9', '37', '10', '12', '17', '45', '16', '48', '18', '11', '42', '49', '-', '-', '30', '24', '29', '1', '19', '-', '27', '20', '23', '-', '26', '-', '-', '8', '-', '-', '-', '28', '33', '34', '-', '32', '-', '39', '44', '36', '55', '41', '-', '35', '47', '51', '75', '56', '54', '-', '50', '52', '61', '-', '-', '58', '63', '53', '66', '65', '68', '-', '67', '-', '-', '59', '57', '-', '-', '64', '-', '76', '-', '25', '74', '46', '-', '73', '62', '84', '77', '81', '79', '-', '-', '85', '89', '87', '100', '97']\n",
      "\n",
      "\n",
      "['1', '1', '1', '2', '5', '2', '3', '3', '3', '1', '1', '7', '6', '12', '9', '12', '6', '11', '13', '2', '11', '15', '21', '4', '8', '20', '24', '1', '1', '30', '19', '15', '1', '24', '1', '28', '12', '8', '39', '16', '29', '9', '23', '17', '28', '14', '32', '2', '36', '1', '37', '25', '53', '12', '30', '42', '14', '40', '54', '60', '31', '25', '55', '64', '65', '42', '50', '2', '66', '10', '24', '72', '28', '74', '75', '6', '18', '78', '79', '40', '81', '75', '83', '25', '69', '46', '87', '47', '30', '29', '34', '74', '71', '94', '95', '76', '61', '72', '59', '97']\n",
      "\n",
      "\n",
      "['17', '40', '6', '35', '5', '16', '11', '49', '32', '15', '53', '17', '16', '2', '30', '11', '22', '23', '17', '4', '16', '10', '8', '16', '5', '9', '22', '2', '25', '6', '21', '25', '17', '5', '33', '7', '17', '2', '2', '9', '4', '44', '28', '22', '5', '7', '4', '43', '19', '37', '3', '13', '1', '15', '9', '9', '16', '11', '2', '1', '13', '14', '14', '1', '1', '18', '15', '6', '4', '9', '18', '1', '16', '1', '1', '16', '9', '1', '1', '5', '1', '7', '1', '2', '7', '2', '1', '4', '9', '13', '6', '7', '9', '1', '1', '3', '18', '8', '6', '2']\n"
     ]
    }
   ],
   "source": [
    "print(song)\n",
    "print('\\n')\n",
    "print(artist)\n",
    "print('\\n')\n",
    "print(last_week_rank)\n",
    "print('\\n')\n",
    "print(peak_rank)\n",
    "print('\\n')\n",
    "print(weeks_onboard)"
   ]
  },
  {
   "cell_type": "code",
   "execution_count": 22,
   "metadata": {},
   "outputs": [],
   "source": [
    "driver.close()"
   ]
  },
  {
   "cell_type": "code",
   "execution_count": null,
   "metadata": {},
   "outputs": [],
   "source": []
  }
 ],
 "metadata": {
  "kernelspec": {
   "display_name": "Python 3",
   "language": "python",
   "name": "python3"
  },
  "language_info": {
   "codemirror_mode": {
    "name": "ipython",
    "version": 3
   },
   "file_extension": ".py",
   "mimetype": "text/x-python",
   "name": "python",
   "nbconvert_exporter": "python",
   "pygments_lexer": "ipython3",
   "version": "3.7.6"
  }
 },
 "nbformat": 4,
 "nbformat_minor": 4
}
