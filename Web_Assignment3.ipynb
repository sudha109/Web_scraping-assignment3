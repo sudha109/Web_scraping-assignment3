{
 "cells": [
  {
   "cell_type": "markdown",
   "metadata": {},
   "source": [
    "### 7.Scrape the details of Data science recruiters from naukri.com."
   ]
  },
  {
   "cell_type": "code",
   "execution_count": 50,
   "metadata": {},
   "outputs": [],
   "source": [
    "import selenium\n",
    "from selenium import webdriver\n",
    "from selenium.webdriver.support.ui import WebDriverWait\n",
    "from selenium.webdriver.common.by import By\n",
    "from selenium.webdriver.support import expected_conditions as EC\n",
    "from selenium.common.exceptions import TimeoutException\n",
    "from selenium.common.exceptions import NoSuchElementException\n",
    "from selenium.webdriver.common.action_chains import ActionChains\n",
    "import time"
   ]
  },
  {
   "cell_type": "code",
   "execution_count": 95,
   "metadata": {},
   "outputs": [],
   "source": [
    "driver=webdriver.Chrome(r\"C:\\Users\\eshan\\Downloads\\chromedriver_win32\\chromedriver.exe\")"
   ]
  },
  {
   "cell_type": "code",
   "execution_count": 96,
   "metadata": {},
   "outputs": [],
   "source": [
    "url=\"https://www.naukri.com/\"\n",
    "driver.get(url)\n",
    "driver.maximize_window()\n",
    "\n",
    "\n",
    "page2=driver.find_element_by_xpath(\"//ul[@class='midSec menu']//li//a[@title='Search Recruiters']\")\n",
    "driver.implicitly_wait(20)\n",
    "ActionChains(driver).move_to_element(page2).click(page2).perform()\n",
    "    \n"
   ]
  },
  {
   "cell_type": "code",
   "execution_count": 97,
   "metadata": {},
   "outputs": [],
   "source": [
    "driver.switch_to.window(driver.window_handles[1])"
   ]
  },
  {
   "cell_type": "code",
   "execution_count": 98,
   "metadata": {},
   "outputs": [
    {
     "name": "stdout",
     "output_type": "stream",
     "text": [
      "Enter Job/Designation:Data Science\n"
     ]
    }
   ],
   "source": [
    "keyword=input(\"Enter Job/Designation:\")"
   ]
  },
  {
   "cell_type": "code",
   "execution_count": 99,
   "metadata": {},
   "outputs": [],
   "source": [
    "try:\n",
    "    search_bar=driver.find_element_by_xpath(\"//div[@class='suggest fl']//input[@class='sugInp']\")\n",
    "    search_bar.clear()\n",
    "    driver.implicitly_wait(10)\n",
    "    ActionChains(driver).move_to_element(search_bar).click(search_bar).perform()\n",
    "\n",
    "    search_bar.send_keys(keyword)\n",
    "    search_button=driver.find_element_by_xpath(\"//button[@class='fl qsbSrch blueBtn']\")\n",
    "    driver.implicitly_wait(10)\n",
    "    ActionChains(driver).move_to_element(search_button).click(search_button).perform()\n",
    "    \n",
    "except NoSuchElementException:\n",
    "    pass\n",
    "\n",
    "\n",
    "     "
   ]
  },
  {
   "cell_type": "code",
   "execution_count": 100,
   "metadata": {},
   "outputs": [],
   "source": [
    "Name=[]\n",
    "Designation=[]\n",
    "Company=[]\n",
    "Skills=[]\n",
    "Location=[]\n"
   ]
  },
  {
   "cell_type": "code",
   "execution_count": 101,
   "metadata": {},
   "outputs": [
    {
     "name": "stdout",
     "output_type": "stream",
     "text": [
      "['Aakash Harit', 'shravan Kumar Gaddam', 'Talent Acquisition Executive', 'Anik Agrawal', 'MARSIAN Technologies LLP', 'subhas patel', 'Jitendra Singh', 'Abhishek - Only Analytics Hiring - India and', 'Institute for Financial Management and Resear', 'Balu Ramesh', 'Asif Lucknowi', 'InstaFinancials', 'Kalpana Dumpala', 'Mubarak', 'Kushal Rastogi', 'Manisha Yadav', 'Kapil Devang', 'Rakhi', 'Riya Rajesh', 'Mahesh Babu Channa', 'Rashmi Bhattacharjee', 'Faizan Kareem', 'Rithika dadwal', 'Azahar Shaikh', 'Pooja Seth', 'Sandhya Khandagale', 'Shaun Rao', 'Manas', 'Srikanth Bellup', 'kumar', 'Sunil Vedula', 'Rajat Kumar', 'Jayanth N', 'Prateek Kumar', 'Amit Sharma', 'Kanan', 'Shashikant Chaudhary', 'Brad', 'Rutuja Pawar', 'Madhusudhan Sridhar', 'Ankit Sinha', 'Gaurav Chouhan', 'Rashi Kacker', 'Ashwini', 'Balaji Kolli', 'Rajani Nagaraj', 'ROHIT Kumar', 'Amir Chowdhury', 'SREEDHAR', 'Shailja Mishra']\n",
      "\n",
      "\n",
      "['HR Manager', 'Company Recruiter', 'Recruitment Professional', 'Company Recruiter', 'Company HR', 'Founder CEO', 'Manager- Talent Acquisition', 'Recruitment Lead Consultant', 'Programme Manager', 'HR Administrator', 'Director', 'Human Resource', 'Executive Hiring', 'Company HR', 'Company HR', 'HR Executive', 'HR Manager', 'Recruitment Consultant', 'Manager Talent Acquisition', 'HR Team Lead', 'HR Head', 'HR MANAGER', 'HR Recruiter', 'Company Recruiter', 'IT Technical Recruiter', 'HR Recruiter', 'Manager Human Resources', 'Lead Talent acquisition', 'Director', 'Proprietor', 'CEO', 'Founder CEO', 'Project Manager', 'Head', 'Consultant', 'senior technology instructor', 'HR Recruiter/HR Excutive', 'Manager, Technical Recruiting', 'Technical Recruiter', 'Erp Implementer', 'Head Analytics', 'Chief Technical Officer', 'Sr Product Manager', 'Director Global Delivery', 'Co Founder', 'HR Manager', 'Architect', 'Managing Partner', 'Recruitment Consultant', 'HR Manager']\n",
      "\n",
      "\n",
      "['Data Science Network', 'Shore Infotech India Pvt. Ltd', 'XenonStack', 'Enerlytics Software Solutions Pvt Ltd', 'MARSIAN Technologies LLP', 'LibraryXProject', 'Compunnel Technology India Pvt. Ltd', 'Apidel Technologies Division of Transpower', 'IFMR', 'Techvantage Systems Pvt Ltd', 'Weupskill- Live Wire India', 'CBL Data Science Private Limited', 'Innominds Software', 'MoneyTap', 'QuantMagnum Technologies Pvt. Ltd.', 'Easi Tax', 'BISP Solutions', 'Walkingtext Private Limited', 'Novelworx Digital Solutions', 'SocialPrachar.com', 'AXESTRACK SOFTWARE SOLUTIONS PRIVATE...', 'FirstTech Consaltants Pvt.Ltd', 'Affine Analytics', 'NEAL ANALYTICS SERVICES PVT LTD', 'RAPS iTech', 'Compumatrice Multimedia Pvt Ltd', 'Exela Technologies', 'Autumn Leaf Consulting Services Private...', 'TeachR Robotics Pvt. Ltd', 'trainin', 'Nanoprecise Sci Corp', 'R.S Consultancy &amp; Services', 'Dollarbird Information Services Pvt, Ltd', 'Trisect', 'ASCO consulting', 'NY INST', '3D India Staffing Research &amp; Consulting...', 'O.C. Tanner', 'Demand Matrix', 'MADHUSUDHAN SRIDHAR', 'Suntech Global', 'Strategic Consulting Lab', 'Impel Labs Pvt. Ltd.', 'MRP Advisers', 'Saras Solutions India Pvt Ltd', 'WildJasmine', 'LNT Private Limited', 'Granular.ai', 'JOBSMILL BUSINESS SOLUTIONS PRIVATE LIMITED', 'Certybox Pvt.Ltd.']\n",
      "\n",
      "\n",
      "['Classic ASP Developer, Internet Marketing Professional, Data Science SME, Content Writers, SEO Professional, Revenue Professional', '.Net, Java, Data Science, Linux Administration, Sql Server Development, Winforms, Wcf Services, Wpf, Telecom Engineering, Technical Management, Software', 'Web Designing, html5, Angular.js, seo, hadoop, Cloud Computing, python, Iphone Development, java, Machine Learning, aws, analytics, linux, puppet', 'Mean Stack, javascript, angularjs, mongodb, Web Services, rest, express, Node.js, Big Data, iot, Data Science, Cloud Computing, saas, Aws', 'Data Science, Artificial Intelligence, Machine Learning, Business Analytics', 'Hadoop, Spark, Digital Strategy, Data Architecture, Command Center, Cdp, Dmp, Kafka, Data Science, Data Analysis, Big Data Analytics, Real Time Analysis, SQL', 'Python, Data Science, .Net, Java, Big Data, Data Analytics, Business Intelligence, Msbi, Aws, Microsoft Azure, Devops', 'Analytics, Business Intelligence, Business Analytics, Predictive Modeling, Predictive Analytics, Data Science, Data Analysis, Data Analytics, Big Data, Big', 'Data Science', 'Machine Learning, algorithms, Go Getter, Computer Science, spark, Big Data, hdfs, sql, cassandra, hadoop, python, scala, java, Data Science, Front End', 'Technical Training, Software Development, Presentation Skills, B.tech, M.tech, B.e., mca, msc, Computer Science, freshers, jobs in indore, Data Science, itil', 'Software Development, It Sales, Account Management, Data Analysis, Customer Service, Sr, Software Engineering, Mvc, Ajax, Asp.net, Html, C#, Javascript', 'Qa, Ui/ux, Java Developer, Java Architect, C++/qt, Php, Lamp, Api, J2ee, Java, Soa, Esb, Middleware, Bigdata Achitect, Hadoop Architect, Deep', 'Business Intelligence, Data Warehousing, Data Science, Business Analytics, Customer Support, Business Reporting, Bi', 'Office Administration, Hr Administration, telecalling, client relationship management, Client Acquisition, Sales, Reception, HR, Recruitment, Onboarding, Human', 'Telecalling, Client Interaction, Marketing, Research, Web Development, Social Media Marketing, Data Entry Operation, Excel, Ms Office, Invoicing', 'Big Data, Hadoop, Data Analytics, Data Science', 'Ites, Data Science, Cloud, Iot', 'Data Science', 'Social Media, digital media maketing, seo, smm, smo, sem, Content Wirting, social media marketing, social media manager, digital media marketing manager', 'Corporate Sales, Software Development, Software Sales, Marketing, Creative Designing, Corporate Planning, Senior Management, Crm, Client Relationship', 'Data Analytics, Data Science, Machine Learning, Deep Learning, Nlp, Data Mining, Python, R, Database Administration, Text Mining', 'Data Science, Machine Learning, Python, R, Deep Learning, Big Data, Hadoop', 'Data Science, Artificial Intelligence, Machine Learning, Data Analytics', 'B.tech, Hr Mba, quality assurance engineering, Data Science, Python, Software Development, Android Application Development', 'Big Data, Data Science, Artificial Intelligence, Hadoop, Ui Development, Php, Freelancing, .Net, Software Testing, Sap, Leadership Hiring', 'Java, Net, Angularjs, Hr, Infrastructure, Management, Project Management, Business Analysis, Data Science, Information Technology, Technology', 'Software Architecture, Vp Engineering, Product Management, analytics, Data Science, Node.js, Principal Engineer, Big Data, python, angularjs, React.js', 'mechatronics, robotics, Home Automation, iot, Raspberry Pi, python, C++, C, Data Science, 3d Modeling, 3d, Web Designing, Programming, Mechanical Design', 'Data Science, Hadoop, Rpas, Devops, Python, Aws, Teaching, Big Data', 'Signal Processing, Machine Learning, Neural Networks, Data Science, Predictive Analytics, Time Series Analysis, Data Visualization, Technical Leadership, Data', 'Web Technologies, Project Management, Software Architecture, Data Science, Object Oriented Programming, Computer Science, Electrical Engineering, Architecture', 'Data Analytics, Managed Services, Team Leading, python, Machine Learning, Google Analytics, Dmp, Aws, Campaign Analytics, Digital Campaigns, Audience', 'Java, Python, Angularjs, Software Testing, Machine Learning, Data Science, Javascript, Django, React.js, Node.js, Augmented Reality, Virtual Reality, Advanced', 'Machine Learning, Artificial Intelligence, Data Science, Software Engineering, Software Development, Graduate Engineer Trainee, Fresher, Data Analytics, Java', 'C, C++, Artificial Intelligence, Python, Php, Web Development, Matlab, Data Science, Augmented Reality, C C++', 'Relationship Management, Retail Sales, Private Banking, Mutual Funds, NISM, Equity, Finance, Financial Products, Financial Services, Verbal, Written', 'Data Science, Software Engineering', 'Data Science, Big Data Analytics, Digital Marketing, Content Writing, Ui Development, Database Development, Qa Automation, Python, Project Management', 'Data Science, Recruitment, Salary', 'B.Tech, Tableau, Statistics, R, Analytics, Time Series, Data Science, Business Solutions, SQL, Technical Skills, SSAS, SQL Server, Analysis Services, Qlikview', 'Software Development, Business Intelligence, Big Data Analytics, Database Administration, Data Science, Microsoft Azure, Spark, Cassandra, Object Oriented', 'Data Science, Node.js, Angularjs', 'Data Science, Media Marketing, Resource Planning, Managed Services, Display Advertising, Machine Learning, Python, Etl, Sql', 'Data Analysis, Learning, Data Science, Computer Science, Communication Skills', 'Java, Hadoop, R, Machine Learning, Spark, Flume, Hdfs, Data Mining, Sas, Big, Data Science, Cloudera, Impala, Bigdata', 'Software Development, Core Java, Unit Testing, Customer Experience, Problem Solving, Communication Skills, Mysql, Data Science, Sales Management, Analytics', 'Machine Learning, Data Science, Product Management, New Product, Data Analysis, Computer Vision, Deep Learning, Python, Remote Sensing', 'Data Science, Machine Learning, Big Data Analytics, Spark, Python, R, Networking, Network Engineering, Placement, Training, Sql, Marketing, Mainframes, All', 'consulting, Education Counseling, Educational Sales, Institutional Sales, pmp, Data Science, Business Development, Revenue Generation, Sales Achievement, new']\n",
      "\n",
      "\n",
      "['Delhi', 'Hyderabad / Secunderabad', 'Chandigarh', 'Ahmedabad', 'Pune', 'UK - (london)', 'Delhi', 'Vadodara / Baroda', 'Chennai', 'Trivandrum', 'Indore', 'Bengaluru / Bangalore', 'Hyderabad / Secunderabad', 'Bengaluru / Bangalore', 'Mumbai', 'Navi Mumbai', 'Bhopal', 'Bengaluru / Bangalore', 'Cochin', 'Hyderabad / Secunderabad', 'Delhi', 'Hyderabad / Secunderabad', 'Pune', 'Pune', 'Chandigarh', 'Pune', 'Pune', 'Bengaluru / Bangalore', 'Hyderabad / Secunderabad', 'Bengaluru / Bangalore', 'Delhi', 'Mysoru / Mysore', 'Noida', 'New Delhi', 'Chennai', 'Aligarh', 'Salt Lake City', 'Pune', 'Bengaluru / Bangalore', 'Mumbai', 'Indore', 'Bengaluru / Bangalore', 'MYSORE', 'Hyderabad / Secunderabad', 'Bengaluru / Bangalore', 'Mumbai', 'Hyderabad / Secunderabad', 'Noida']\n"
     ]
    }
   ],
   "source": [
    "name=driver.find_elements_by_xpath(\"//span[@class='fl ellipsis']\")\n",
    "for i in name:\n",
    "    nam=i.text\n",
    "    Name.append(nam)\n",
    "    \n",
    "design=driver.find_elements_by_xpath(\"//span[@class='ellipsis clr']\")\n",
    "for i in design:\n",
    "    des=i.text\n",
    "    Designation.append(des)\n",
    "    \n",
    "comp=driver.find_elements_by_xpath(\"//a[@class='ellipsis'][2]\")\n",
    "for i in comp:\n",
    "    company=i.text\n",
    "    Company.append(company)\n",
    "    \n",
    "skill=driver.find_elements_by_xpath(\"//div[@class='hireSec highlightable']\")\n",
    "for i in skill:\n",
    "    ski=i.text\n",
    "    Skills.append(ski)\n",
    "    \n",
    "loc=driver.find_elements_by_xpath(\"//small[@class='ellipsis']\")\n",
    "for i in loc:\n",
    "    locatn=i.text\n",
    "    Location.append(locatn)\n",
    "    \n",
    "print(Name) \n",
    "print('\\n')\n",
    "print(Designation)\n",
    "print('\\n')\n",
    "print(Company)\n",
    "print('\\n')\n",
    "print(Skills)\n",
    "print('\\n')\n",
    "print(Location)"
   ]
  },
  {
   "cell_type": "markdown",
   "metadata": {},
   "source": [
    "### 8. Scrape the details of Highest selling novels."
   ]
  },
  {
   "cell_type": "code",
   "execution_count": 17,
   "metadata": {},
   "outputs": [],
   "source": [
    "import selenium\n",
    "from selenium import webdriver\n",
    "from selenium.webdriver.chrome.options import Options\n",
    "chrome_options=Options()\n",
    "chrome_options.add_argument('--incognito')\n",
    "from selenium.webdriver.common.action_chains import ActionChains\n",
    "from selenium.common.exceptions import NoSuchElementException\n",
    "import time"
   ]
  },
  {
   "cell_type": "code",
   "execution_count": 18,
   "metadata": {},
   "outputs": [],
   "source": [
    "driver=webdriver.Chrome(r\"C:\\Users\\eshan\\Downloads\\chromedriver_win32\\chromedriver.exe\")"
   ]
  },
  {
   "cell_type": "code",
   "execution_count": 19,
   "metadata": {},
   "outputs": [],
   "source": [
    "driver.get(\"https:/www.google.com\")"
   ]
  },
  {
   "cell_type": "code",
   "execution_count": 20,
   "metadata": {},
   "outputs": [
    {
     "name": "stdout",
     "output_type": "stream",
     "text": [
      "Enter the search item:ttps://www.theguardian.com/news/datablog/2012/aug/09/best-selling-books-all-time-fifty-shades-greycompare/\"\n"
     ]
    }
   ],
   "source": [
    "keyword=input(\"Enter the search item:\")"
   ]
  },
  {
   "cell_type": "code",
   "execution_count": 145,
   "metadata": {},
   "outputs": [],
   "source": [
    "#url=\"https://www.theguardian.com/news/datablog/2012/aug/09/best-selling-books-all-time-fifty-shades-greycompare/\""
   ]
  },
  {
   "cell_type": "code",
   "execution_count": 25,
   "metadata": {},
   "outputs": [],
   "source": [
    "searchbar=driver.find_element_by_xpath(\"//div[@class='a4bIc']//input[@class='gLFyf gsfi']\")\n",
    "driver.implicitly_wait(10)\n",
    "ActionChains(driver).move_to_element(searchbar).click(searchbar).perform()\n",
    "try:\n",
    "    searchbar.send_keys(keyword)\n",
    "    driver.implicitly_wait(20)\n",
    "    search_button=driver.find_element_by_xpath(\"//div[@class='FPdoLc tfB0Bf']//input[@class='gNO89b']\")\n",
    "    driver.implicitly_wait(10)\n",
    "    ActionChains(driver).move_to_element(search_button).click(search_button).perform()\n",
    "    \n",
    "    \n",
    "except NoSuchElementException:\n",
    "    pass"
   ]
  },
  {
   "cell_type": "code",
   "execution_count": 28,
   "metadata": {},
   "outputs": [],
   "source": [
    "book_list=driver.find_element_by_xpath(\"//h3[@class='LC20lb DKV0Md'][1]//span[1]\")\n",
    "driver.implicitly_wait(10)\n",
    "ActionChains(driver).move_to_element(book_list).click(book_list).perform()\n",
    "\n",
    "best_books=driver.find_element_by_xpath(\"//div[@class='stand-first-alone']//a[1]\")\n",
    "driver.implicitly_wait(10)\n",
    "ActionChains(driver).move_to_element(best_books).click(best_books).perform()\n"
   ]
  },
  {
   "cell_type": "code",
   "execution_count": 30,
   "metadata": {},
   "outputs": [],
   "source": [
    " Table=[]"
   ]
  },
  {
   "cell_type": "code",
   "execution_count": 31,
   "metadata": {},
   "outputs": [],
   "source": [
    "table=driver.find_elements_by_xpath(\"//tbody//tr\")\n",
    "for i in table:\n",
    "    tab=i.text\n",
    "    Table.append(tab)\n",
    "    "
   ]
  },
  {
   "cell_type": "code",
   "execution_count": 32,
   "metadata": {},
   "outputs": [
    {
     "data": {
      "text/plain": [
       "['1 Da Vinci Code,The Brown, Dan 5,094,805 Transworld Crime, Thriller & Adventure',\n",
       " \"2 Harry Potter and the Deathly Hallows Rowling, J.K. 4,475,152 Bloomsbury Children's Fiction\",\n",
       " \"3 Harry Potter and the Philosopher's Stone Rowling, J.K. 4,200,654 Bloomsbury Children's Fiction\",\n",
       " \"4 Harry Potter and the Order of the Phoenix Rowling, J.K. 4,179,479 Bloomsbury Children's Fiction\",\n",
       " '5 Fifty Shades of Grey James, E. L. 3,758,936 Random House Romance & Sagas',\n",
       " \"6 Harry Potter and the Goblet of Fire Rowling, J.K. 3,583,215 Bloomsbury Children's Fiction\",\n",
       " \"7 Harry Potter and the Chamber of Secrets Rowling, J.K. 3,484,047 Bloomsbury Children's Fiction\",\n",
       " \"8 Harry Potter and the Prisoner of Azkaban Rowling, J.K. 3,377,906 Bloomsbury Children's Fiction\",\n",
       " '9 Angels and Demons Brown, Dan 3,193,946 Transworld Crime, Thriller & Adventure',\n",
       " \"10 Harry Potter and the Half-blood Prince:Children's Edition Rowling, J.K. 2,950,264 Bloomsbury Children's Fiction\",\n",
       " '11 Fifty Shades Darker James, E. L. 2,479,784 Random House Romance & Sagas',\n",
       " '12 Twilight Meyer, Stephenie 2,315,405 Little, Brown Book Young Adult Fiction',\n",
       " '13 Girl with the Dragon Tattoo,The:Millennium Trilogy Larsson, Stieg 2,233,570 Quercus Crime, Thriller & Adventure',\n",
       " '14 Fifty Shades Freed James, E. L. 2,193,928 Random House Romance & Sagas',\n",
       " '15 Lost Symbol,The Brown, Dan 2,183,031 Transworld Crime, Thriller & Adventure',\n",
       " '16 New Moon Meyer, Stephenie 2,152,737 Little, Brown Book Young Adult Fiction',\n",
       " '17 Deception Point Brown, Dan 2,062,145 Transworld Crime, Thriller & Adventure',\n",
       " '18 Eclipse Meyer, Stephenie 2,052,876 Little, Brown Book Young Adult Fiction',\n",
       " '19 Lovely Bones,The Sebold, Alice 2,005,598 Pan Macmillan General & Literary Fiction',\n",
       " '20 Curious Incident of the Dog in the Night-time,The Haddon, Mark 1,979,552 Random House General & Literary Fiction',\n",
       " '21 Digital Fortress Brown, Dan 1,928,900 Transworld Crime, Thriller & Adventure',\n",
       " '22 Short History of Nearly Everything,A Bryson, Bill 1,852,919 Transworld Popular Science',\n",
       " '23 Girl Who Played with Fire,The:Millennium Trilogy Larsson, Stieg 1,814,784 Quercus Crime, Thriller & Adventure',\n",
       " '24 Breaking Dawn Meyer, Stephenie 1,787,118 Little, Brown Book Young Adult Fiction',\n",
       " '25 Very Hungry Caterpillar,The:The Very Hungry Caterpillar Carle, Eric 1,783,535 Penguin Picture Books',\n",
       " '26 Gruffalo,The Donaldson, Julia 1,781,269 Pan Macmillan Picture Books',\n",
       " \"27 Jamie's 30-Minute Meals Oliver, Jamie 1,743,266 Penguin Food & Drink: General\",\n",
       " '28 Kite Runner,The Hosseini, Khaled 1,629,119 Bloomsbury General & Literary Fiction',\n",
       " '29 One Day Nicholls, David 1,616,068 Hodder & Stoughton General & Literary Fiction',\n",
       " '30 Thousand Splendid Suns,A Hosseini, Khaled 1,583,992 Bloomsbury General & Literary Fiction',\n",
       " \"31 Girl Who Kicked the Hornets' Nest,The:Millennium Trilogy Larsson, Stieg 1,555,135 Quercus Crime, Thriller & Adventure\",\n",
       " \"32 Time Traveler's Wife,The Niffenegger, Audrey 1,546,886 Random House General & Literary Fiction\",\n",
       " '33 Atonement McEwan, Ian 1,539,428 Random House General & Literary Fiction',\n",
       " \"34 Bridget Jones's Diary:A Novel Fielding, Helen 1,508,205 Pan Macmillan General & Literary Fiction\",\n",
       " '35 World According to Clarkson,The Clarkson, Jeremy 1,489,403 Penguin Humour: Collections & General',\n",
       " \"36 Captain Corelli's Mandolin Bernieres, Louis de 1,352,318 Random House General & Literary Fiction\",\n",
       " '37 Sound of Laughter,The Kay, Peter 1,310,207 Random House Autobiography: General',\n",
       " '38 Life of Pi Martel, Yann 1,310,176 Canongate General & Literary Fiction',\n",
       " '39 Billy Connolly Stephenson, Pamela 1,231,957 HarperCollins Biography: The Arts',\n",
       " '40 Child Called It,A Pelzer, Dave 1,217,712 Orion Autobiography: General',\n",
       " \"41 Gruffalo's Child,The Donaldson, Julia 1,208,711 Pan Macmillan Picture Books\",\n",
       " \"42 Angela's Ashes:A Memoir of a Childhood McCourt, Frank 1,204,058 HarperCollins Autobiography: General\",\n",
       " '43 Birdsong Faulks, Sebastian 1,184,967 Random House General & Literary Fiction',\n",
       " '44 Northern Lights:His Dark Materials S. Pullman, Philip 1,181,503 Scholastic Ltd. Young Adult Fiction',\n",
       " '45 Labyrinth Mosse, Kate 1,181,093 Orion General & Literary Fiction',\n",
       " '46 Harry Potter and the Half-blood Prince Rowling, J.K. 1,153,181 Bloomsbury Science Fiction & Fantasy',\n",
       " '47 Help,The Stockett, Kathryn 1,132,336 Penguin General & Literary Fiction',\n",
       " '48 Man and Boy Parsons, Tony 1,130,802 HarperCollins General & Literary Fiction',\n",
       " '49 Memoirs of a Geisha Golden, Arthur 1,126,337 Random House General & Literary Fiction',\n",
       " \"50 No.1 Ladies' Detective Agency,The:No.1 Ladies' Detective Agency S. McCall Smith, Alexander 1,115,549 Little, Brown Book Crime, Thriller & Adventure\",\n",
       " '51 Island,The Hislop, Victoria 1,108,328 Headline General & Literary Fiction',\n",
       " '52 PS, I Love You Ahern, Cecelia 1,107,379 HarperCollins General & Literary Fiction',\n",
       " '53 You are What You Eat:The Plan That Will Change Your Life McKeith, Gillian 1,104,403 Penguin Fitness & Diet',\n",
       " '54 Shadow of the Wind,The Zafon, Carlos Ruiz 1,092,349 Orion General & Literary Fiction',\n",
       " \"55 Tales of Beedle the Bard,The Rowling, J.K. 1,090,847 Bloomsbury Children's Fiction\",\n",
       " '56 Broker,The Grisham, John 1,087,262 Random House Crime, Thriller & Adventure',\n",
       " \"57 Dr. Atkins' New Diet Revolution:The No-hunger, Luxurious Weight Loss P Atkins, Robert C. 1,054,196 Random House Fitness & Diet\",\n",
       " '58 Subtle Knife,The:His Dark Materials S. Pullman, Philip 1,037,160 Scholastic Ltd. Young Adult Fiction',\n",
       " '59 Eats, Shoots and Leaves:The Zero Tolerance Approach to Punctuation Truss, Lynne 1,023,688 Profile Books Group Usage & Writing Guides',\n",
       " \"60 Delia's How to Cook:(Bk.1) Smith, Delia 1,015,956 Random House Food & Drink: General\",\n",
       " '61 Chocolat Harris, Joanne 1,009,873 Transworld General & Literary Fiction',\n",
       " '62 Boy in the Striped Pyjamas,The Boyne, John 1,004,414 Random House Childrens Books G Young Adult Fiction',\n",
       " \"63 My Sister's Keeper Picoult, Jodi 1,003,780 Hodder & Stoughton General & Literary Fiction\",\n",
       " '64 Amber Spyglass,The:His Dark Materials S. Pullman, Philip 1,002,314 Scholastic Ltd. Young Adult Fiction',\n",
       " '65 To Kill a Mockingbird Lee, Harper 998,213 Random House General & Literary Fiction',\n",
       " '66 Men are from Mars, Women are from Venus:A Practical Guide for Improvin Gray, John 992,846 HarperCollins Popular Culture & Media: General Interest',\n",
       " '67 Dear Fatty French, Dawn 986,753 Random House Autobiography: The Arts',\n",
       " '68 Short History of Tractors in Ukrainian,A Lewycka, Marina 986,115 Penguin General & Literary Fiction',\n",
       " '69 Hannibal Harris, Thomas 970,509 Random House Crime, Thriller & Adventure',\n",
       " '70 Lord of the Rings,The Tolkien, J. R. R. 967,466 HarperCollins Science Fiction & Fantasy',\n",
       " '71 Stupid White Men:...and Other Sorry Excuses for the State of the Natio Moore, Michael 963,353 Penguin Current Affairs & Issues',\n",
       " '72 Interpretation of Murder,The Rubenfeld, Jed 962,515 Headline Crime, Thriller & Adventure',\n",
       " '73 Sharon Osbourne Extreme:My Autobiography Osbourne, Sharon 959,496 Little, Brown Book Autobiography: The Arts',\n",
       " '74 Alchemist,The:A Fable About Following Your Dream Coelho, Paulo 956,114 HarperCollins General & Literary Fiction',\n",
       " \"75 At My Mother's Knee ...:and Other Low Joints O'Grady, Paul 945,640 Transworld Autobiography: The Arts\",\n",
       " '76 Notes from a Small Island Bryson, Bill 931,312 Transworld Travel Writing',\n",
       " '77 Return of the Naked Chef,The Oliver, Jamie 925,425 Penguin Food & Drink: General',\n",
       " '78 Bridget Jones: The Edge of Reason Fielding, Helen 924,695 Pan Macmillan General & Literary Fiction',\n",
       " \"79 Jamie's Italy Oliver, Jamie 906,968 Penguin National & Regional Cuisine\",\n",
       " '80 I Can Make You Thin McKenna, Paul 905,086 Transworld Fitness & Diet',\n",
       " '81 Down Under Bryson, Bill 890,847 Transworld Travel Writing',\n",
       " '82 Summons,The Grisham, John 869,671 Random House Crime, Thriller & Adventure',\n",
       " '83 Small Island Levy, Andrea 869,659 Headline General & Literary Fiction',\n",
       " '84 Nigella Express Lawson, Nigella 862,602 Random House Food & Drink: General',\n",
       " '85 Brick Lane Ali, Monica 856,540 Transworld General & Literary Fiction',\n",
       " \"86 Memory Keeper's Daughter,The Edwards, Kim 845,858 Penguin General & Literary Fiction\",\n",
       " '87 Room on the Broom Donaldson, Julia 842,535 Pan Macmillan Picture Books',\n",
       " '88 About a Boy Hornby, Nick 828,215 Penguin General & Literary Fiction',\n",
       " '89 My Booky Wook Brand, Russell 820,563 Hodder & Stoughton Autobiography: The Arts',\n",
       " '90 God Delusion,The Dawkins, Richard 816,907 Transworld Popular Science',\n",
       " '91 \"Beano\" Annual,The 0 816,585 D.C. Thomson Children\\'s Annuals',\n",
       " '92 White Teeth Smith, Zadie 815,586 Penguin General & Literary Fiction',\n",
       " '93 House at Riverton,The Morton, Kate 814,370 Pan Macmillan General & Literary Fiction',\n",
       " '94 Book Thief,The Zusak, Markus 809,641 Transworld General & Literary Fiction',\n",
       " '95 Nights of Rain and Stars Binchy, Maeve 808,900 Orion General & Literary Fiction',\n",
       " '96 Ghost,The Harris, Robert 807,311 Random House General & Literary Fiction',\n",
       " '97 Happy Days with the Naked Chef Oliver, Jamie 794,201 Penguin Food & Drink: General',\n",
       " '98 Hunger Games,The:Hunger Games Trilogy Collins, Suzanne 792,187 Scholastic Ltd. Young Adult Fiction',\n",
       " \"99 Lost Boy,The:A Foster Child's Search for the Love of a Family Pelzer, Dave 791,507 Orion Biography: General\",\n",
       " \"100 Jamie's Ministry of Food:Anyone Can Learn to Cook in 24 Hours Oliver, Jamie 791,095 Penguin Food & Drink: General\"]"
      ]
     },
     "execution_count": 32,
     "metadata": {},
     "output_type": "execute_result"
    }
   ],
   "source": [
    "Table"
   ]
  },
  {
   "cell_type": "code",
   "execution_count": null,
   "metadata": {},
   "outputs": [],
   "source": []
  }
 ],
 "metadata": {
  "kernelspec": {
   "display_name": "Python 3",
   "language": "python",
   "name": "python3"
  },
  "language_info": {
   "codemirror_mode": {
    "name": "ipython",
    "version": 3
   },
   "file_extension": ".py",
   "mimetype": "text/x-python",
   "name": "python",
   "nbconvert_exporter": "python",
   "pygments_lexer": "ipython3",
   "version": "3.7.6"
  }
 },
 "nbformat": 4,
 "nbformat_minor": 4
}
